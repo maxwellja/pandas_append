{
 "cells": [
  {
   "cell_type": "code",
   "execution_count": 3,
   "id": "92496bb0-401b-4484-9723-bda5b1857657",
   "metadata": {},
   "outputs": [],
   "source": [
    "import pandas as pd\n",
    "import openpyxl as op\n",
    "import re"
   ]
  },
  {
   "cell_type": "code",
   "execution_count": 4,
   "id": "378d62c8-d93e-48d7-ba87-ab9846f110db",
   "metadata": {},
   "outputs": [],
   "source": [
    "file_path = 'C:\\\\Users\\\\maxwell.aronsohn\\\\LanzaTech\\\\Finance - Reports\\\\Reference Data\\\\utilization\\\\utilization_paylocity_reports.xlsx'\n",
    "data = pd.ExcelFile(file_path)\n",
    "all_sheets = data.sheet_names\n",
    "\n",
    "#Retrieves 'template' table in the excel file, which is later used to set the table column headers.\n",
    "xls = op.load_workbook(file_path)\n",
    "template_name = 'TEMPLATE'\n",
    "tbl_r = xls[template_name].tables.items()[0][1]\n",
    "\n",
    "#Disregards sheets outside of naming convention & stores them for exception handling later.\n",
    "wk_sheets = []\n",
    "ignored = []\n",
    "excluded = [template_name, \"Combined\"]\n",
    "regex = r\"(\\d|1[0-2])-2\\d-(FP|INC|ALL)\" #This is the regex for sheets matching the format [month]-[year]-[subsidiary].\n",
    "for sheet in all_sheets:\n",
    "    if re.match(regex, sheet):\n",
    "        wk_sheets.append(sheet)\n",
    "    elif sheet not in excluded:\n",
    "        ignored.append(sheet)\n",
    "\n",
    "#Returns data and subsidiary from sheet names.\n",
    "def parse_sheet_name(sheet_name):\n",
    "    parts = sheet_name.split('-')\n",
    "    date_str = f\"20{parts[1]}-{parts[0]}-01\"  # Assuming the format is Month-Year-Subsidiary\n",
    "    return pd.to_datetime(date_str), parts[2]\n"
   ]
  },
  {
   "cell_type": "code",
   "execution_count": 5,
   "id": "0128a038-8866-4f14-a927-3db4c55353e8",
   "metadata": {},
   "outputs": [
    {
     "name": "stdout",
     "output_type": "stream",
     "text": [
      "Complete\n"
     ]
    }
   ],
   "source": [
    "# Create a DataFrame to hold combined data.\n",
    "\n",
    "#To validate all sheet headers match.\n",
    "headers = pd.read_excel(data, sheet_name=template_name, skiprows=int(tbl_r[1])-1, nrows=1, usecols=tbl_r[0]+\":\"+tbl_r[3])\n",
    "status = 'Employee Status - Current'\n",
    "hire = 'Hire Date - Current'\n",
    "rehire = 'Rehire Date - Current'\n",
    "e_id = 'Employee ID'\n",
    "\n",
    "# Lists to store iterated dfs; parsing errors.\n",
    "df_sheets = []\n",
    "parsing_errors = []\n",
    "bad_headers = []\n",
    "\n",
    "# Process each sheet:\n",
    "for sheet in wk_sheets:\n",
    "    df = pd.read_excel(data, sheet_name=sheet)\n",
    "    test_cols = list(df.columns.difference(headers.columns))\n",
    "    date, subsidiary = parse_sheet_name(sheet)\n",
    "    \n",
    "    #Perform cleaning and formatting tasks:\n",
    "    df['Report Date'] = date  # Add sheet date as a new column\n",
    "    \n",
    "    if test_cols != []:\n",
    "        print(df.columns, test_cols)\n",
    "        bad_headers.append(sheet)\n",
    "        continue\n",
    "    elif subsidiary == 'FP':\n",
    "        df[e_id] = df[e_id].map(lambda x: f\"FP - {x}\") # Add 'FP - ' to each employee ID\n",
    "        df_sheets.append(df)\n",
    "    elif subsidiary in {'INC', 'ALL'}:\n",
    "        df_sheets.append(df)\n",
    "    else:\n",
    "        parsing_errors.append(f\"Error parsing sheet: {sheet}\")\n",
    "\n",
    "#Concatenate dataframes together.\n",
    "if bad_headers != []:\n",
    "    print(\"There are sheets with column names inconsistent with the template. Check the following sheets:\")\n",
    "    for sheet in bad_headers:\n",
    "        print(sheet)\n",
    "else:\n",
    "    appended = pd.concat(df_sheets)\n",
    "    #Notifications:\n",
    "    print(\"Complete\")\n",
    "    if parsing_errors != []:\n",
    "        print(\"The following pages could not be parsed, so was/were ignored:\")\n",
    "        for error in parsing_errors:\n",
    "            print(error)\n",
    "    if ignored != []:\n",
    "        print(\"The following pages didn't match the sheet naming convention, so was/were ignored:\")\n",
    "        for name in ignored:\n",
    "            print(name)\n",
    "\n",
    "appended.reset_index(drop=True, inplace=True)\n",
    "\n",
    "#Cleaning Steps\n",
    "appended[status] = appended[status].str[:1] #Trunkcate first letter of Employee Status\n",
    "appended.loc[appended[rehire].notna(), [hire]] = appended[rehire] #Change hire date to rehire date, if appl.\n",
    "appended = appended.drop(rehire, axis = 1) #Delete rehire column"
   ]
  },
  {
   "cell_type": "code",
   "execution_count": 6,
   "id": "ac328034-81d2-48db-b447-e4728871c47f",
   "metadata": {
    "scrolled": true
   },
   "outputs": [
    {
     "name": "stdout",
     "output_type": "stream",
     "text": [
      "Complete\n"
     ]
    }
   ],
   "source": [
    "# Save the combined data to a new Excel file\n",
    "file_title = \"clean_appeneded_from_jan23\"\n",
    "destination = f\"C:\\\\Users\\\\maxwell.aronsohn\\\\LanzaTech\\\\Finance - Reports\\\\Reference Data\\\\utilization\\\\{file_title}.xlsx\"\n",
    "appended.to_excel(destination, index=False)\n",
    "print(\"Complete\")"
   ]
  }
 ],
 "metadata": {
  "kernelspec": {
   "display_name": "Python 3 (ipykernel)",
   "language": "python",
   "name": "python3"
  },
  "language_info": {
   "codemirror_mode": {
    "name": "ipython",
    "version": 3
   },
   "file_extension": ".py",
   "mimetype": "text/x-python",
   "name": "python",
   "nbconvert_exporter": "python",
   "pygments_lexer": "ipython3",
   "version": "3.12.3"
  }
 },
 "nbformat": 4,
 "nbformat_minor": 5
}
